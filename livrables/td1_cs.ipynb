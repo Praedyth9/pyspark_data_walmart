{
  "nbformat": 4,
  "nbformat_minor": 0,
  "metadata": {
    "colab": {
      "provenance": []
    },
    "kernelspec": {
      "name": "python3",
      "display_name": "Python 3"
    },
    "language_info": {
      "name": "python"
    }
  },
  "cells": [
    {
      "cell_type": "markdown",
      "source": [
        "# 1 - Download Walmart Data"
      ],
      "metadata": {
        "id": "hH9CkxE-atGJ"
      }
    },
    {
      "cell_type": "code",
      "source": [
        "# Téléchargement des données à partir du repo git\n",
        "!wget \"https://github.com/ettouilebouael/pyspark_for_datascience/raw/refs/heads/main/data/walmart_data.zip\""
      ],
      "metadata": {
        "colab": {
          "base_uri": "https://localhost:8080/"
        },
        "id": "U-ywWXpBat8D",
        "outputId": "f1fe48f2-8c04-49c0-c22c-aa8dc58f3711"
      },
      "execution_count": 2,
      "outputs": [
        {
          "output_type": "stream",
          "name": "stdout",
          "text": [
            "--2024-10-02 09:55:47--  https://github.com/ettouilebouael/pyspark_for_datascience/raw/refs/heads/main/data/walmart_data.zip\n",
            "Resolving github.com (github.com)... 140.82.112.4\n",
            "Connecting to github.com (github.com)|140.82.112.4|:443... connected.\n",
            "HTTP request sent, awaiting response... 302 Found\n",
            "Location: https://media.githubusercontent.com/media/ettouilebouael/pyspark_for_datascience/refs/heads/main/data/walmart_data.zip [following]\n",
            "--2024-10-02 09:55:47--  https://media.githubusercontent.com/media/ettouilebouael/pyspark_for_datascience/refs/heads/main/data/walmart_data.zip\n",
            "Resolving media.githubusercontent.com (media.githubusercontent.com)... 185.199.110.133, 185.199.108.133, 185.199.111.133, ...\n",
            "Connecting to media.githubusercontent.com (media.githubusercontent.com)|185.199.110.133|:443... connected.\n",
            "HTTP request sent, awaiting response... 200 OK\n",
            "Length: 132754996 (127M) [application/zip]\n",
            "Saving to: ‘walmart_data.zip’\n",
            "\n",
            "walmart_data.zip    100%[===================>] 126.60M   269MB/s    in 0.5s    \n",
            "\n",
            "2024-10-02 09:55:51 (269 MB/s) - ‘walmart_data.zip’ saved [132754996/132754996]\n",
            "\n"
          ]
        }
      ]
    },
    {
      "cell_type": "code",
      "source": [
        "# Création d'un dossier pour les données walmart\n",
        "!mkdir walmart_data\n",
        "\n",
        "# Décompression du fichier zip contenant les données\n",
        "!unzip walmart_data.zip -d walmart_data\n",
        "\n",
        "# lister les fichiers\n",
        "!ls walmart_data"
      ],
      "metadata": {
        "colab": {
          "base_uri": "https://localhost:8080/"
        },
        "id": "cg5igZMokZTY",
        "outputId": "825b124d-4a99-4357-a4f1-7ba3b9b1bc28"
      },
      "execution_count": 3,
      "outputs": [
        {
          "output_type": "stream",
          "name": "stdout",
          "text": [
            "Archive:  walmart_data.zip\n",
            "  inflating: walmart_data/calendar.parquet  \n",
            "  inflating: walmart_data/sell_prices.parquet  \n",
            "  inflating: walmart_data/walmart_sales.parquet  \n",
            "calendar.parquet  sell_prices.parquet  walmart_sales.parquet\n"
          ]
        }
      ]
    },
    {
      "cell_type": "code",
      "source": [
        "!pip install pyspark"
      ],
      "metadata": {
        "colab": {
          "base_uri": "https://localhost:8080/"
        },
        "id": "BHLzKGiXPCX3",
        "outputId": "cce0cdb0-fc83-48d3-ebdd-1e0855c45a66"
      },
      "execution_count": 4,
      "outputs": [
        {
          "output_type": "stream",
          "name": "stdout",
          "text": [
            "Collecting pyspark\n",
            "  Downloading pyspark-3.5.3.tar.gz (317.3 MB)\n",
            "\u001b[2K     \u001b[90m━━━━━━━━━━━━━━━━━━━━━━━━━━━━━━━━━━━━━━━━\u001b[0m \u001b[32m317.3/317.3 MB\u001b[0m \u001b[31m4.3 MB/s\u001b[0m eta \u001b[36m0:00:00\u001b[0m\n",
            "\u001b[?25h  Preparing metadata (setup.py) ... \u001b[?25l\u001b[?25hdone\n",
            "Requirement already satisfied: py4j==0.10.9.7 in /usr/local/lib/python3.10/dist-packages (from pyspark) (0.10.9.7)\n",
            "Building wheels for collected packages: pyspark\n",
            "  Building wheel for pyspark (setup.py) ... \u001b[?25l\u001b[?25hdone\n",
            "  Created wheel for pyspark: filename=pyspark-3.5.3-py2.py3-none-any.whl size=317840625 sha256=deb7f54bab9112b2d93f3e228346428b12c204b5d43ce48c9c02705204d70cb2\n",
            "  Stored in directory: /root/.cache/pip/wheels/1b/3a/92/28b93e2fbfdbb07509ca4d6f50c5e407f48dce4ddbda69a4ab\n",
            "Successfully built pyspark\n",
            "Installing collected packages: pyspark\n",
            "Successfully installed pyspark-3.5.3\n"
          ]
        }
      ]
    },
    {
      "cell_type": "markdown",
      "source": [
        "# Chargement des données et affichage du dataframe"
      ],
      "metadata": {
        "id": "7-rdnZb4Qknw"
      }
    },
    {
      "cell_type": "code",
      "source": [
        "#Initialisation spark session\n",
        "from pyspark.sql import SparkSession\n",
        "from pyspark.sql import functions as F\n",
        "spark = SparkSession.builder.getOrCreate()\n",
        "\n",
        "#Lecture fichier walmart_sales.parquet et affichage des 10 premières lignes pour comprendre les variables\n",
        "walmart_sales_df = spark.read.parquet(\"walmart_data/walmart_sales.parquet\")\n",
        "walmart_sales_df.show(10)"
      ],
      "metadata": {
        "colab": {
          "base_uri": "https://localhost:8080/"
        },
        "id": "vvnN9gqqPOzr",
        "outputId": "1f628a4d-9dd6-43a2-fc51-9cd551c17e42"
      },
      "execution_count": 5,
      "outputs": [
        {
          "output_type": "stream",
          "name": "stdout",
          "text": [
            "+-------------+---------+-------+--------+--------+--------------------+----------+-----+\n",
            "|      item_id|  dept_id| cat_id|store_id|state_id|                  id|      date|sales|\n",
            "+-------------+---------+-------+--------+--------+--------------------+----------+-----+\n",
            "|HOBBIES_1_001|HOBBIES_1|HOBBIES|    CA_1|      CA|HOBBIES_1_001_CA_...|2011-01-29|    0|\n",
            "|HOBBIES_1_002|HOBBIES_1|HOBBIES|    CA_1|      CA|HOBBIES_1_002_CA_...|2011-01-29|    0|\n",
            "|HOBBIES_1_003|HOBBIES_1|HOBBIES|    CA_1|      CA|HOBBIES_1_003_CA_...|2011-01-29|    0|\n",
            "|HOBBIES_1_004|HOBBIES_1|HOBBIES|    CA_1|      CA|HOBBIES_1_004_CA_...|2011-01-29|    0|\n",
            "|HOBBIES_1_005|HOBBIES_1|HOBBIES|    CA_1|      CA|HOBBIES_1_005_CA_...|2011-01-29|    0|\n",
            "|HOBBIES_1_006|HOBBIES_1|HOBBIES|    CA_1|      CA|HOBBIES_1_006_CA_...|2011-01-29|    0|\n",
            "|HOBBIES_1_007|HOBBIES_1|HOBBIES|    CA_1|      CA|HOBBIES_1_007_CA_...|2011-01-29|    0|\n",
            "|HOBBIES_1_008|HOBBIES_1|HOBBIES|    CA_1|      CA|HOBBIES_1_008_CA_...|2011-01-29|   12|\n",
            "|HOBBIES_1_009|HOBBIES_1|HOBBIES|    CA_1|      CA|HOBBIES_1_009_CA_...|2011-01-29|    2|\n",
            "|HOBBIES_1_010|HOBBIES_1|HOBBIES|    CA_1|      CA|HOBBIES_1_010_CA_...|2011-01-29|    0|\n",
            "+-------------+---------+-------+--------+--------+--------------------+----------+-----+\n",
            "only showing top 10 rows\n",
            "\n"
          ]
        }
      ]
    },
    {
      "cell_type": "markdown",
      "source": [
        "# 2 - Parsing des dates"
      ],
      "metadata": {
        "id": "CoB3BHm5QqeM"
      }
    },
    {
      "cell_type": "code",
      "source": [
        "walmart_sales_df = walmart_sales_df.withColumn(\"year\", F.year(\"Date\"))\n",
        "walmart_sales_df = walmart_sales_df.withColumn(\"month\", F.month(\"Date\"))\n",
        "\n",
        "#walmart_sales_df.show(10) # Permet de vérifier le parsing\n"
      ],
      "metadata": {
        "id": "DsQC1DnWQyx6"
      },
      "execution_count": 6,
      "outputs": []
    },
    {
      "cell_type": "markdown",
      "source": [
        "# 3 - 4 - Filtrage des ventes négatives et retire les valeurs manquantes"
      ],
      "metadata": {
        "id": "QpZ_d7LLRa8j"
      }
    },
    {
      "cell_type": "code",
      "source": [
        "walmart_sales_df = walmart_sales_df.na.drop()\n",
        "walmart_sales_df = walmart_sales_df.filter(walmart_sales_df.sales >= 0)"
      ],
      "metadata": {
        "id": "I6cnQpBwRduB"
      },
      "execution_count": 7,
      "outputs": []
    },
    {
      "cell_type": "markdown",
      "source": [
        "# 5 - Agrégation des données à la vente Mois X produits X Magasins"
      ],
      "metadata": {
        "id": "-SoDtgeERvSi"
      }
    },
    {
      "cell_type": "code",
      "source": [
        "walmart_sales_df = walmart_sales_df.groupBy(\"year\", \"month\", \"item_id\", \"store_id\").agg(F.sum(\"sales\").alias(\"sales\"))"
      ],
      "metadata": {
        "id": "w5ljOYf_k_eY"
      },
      "execution_count": 8,
      "outputs": []
    },
    {
      "cell_type": "markdown",
      "source": [
        "# 6 - Ajouter les mois sans transactions et les imputer avec 0."
      ],
      "metadata": {
        "id": "5-J9eDGrjzK0"
      }
    },
    {
      "cell_type": "code",
      "source": [
        "# Extrait chaque année/mois/item_id/store_id\n",
        "years = walmart_sales_df.select(\"year\").distinct().rdd.flatMap(lambda x: x).collect()\n",
        "months = walmart_sales_df.select(\"month\").distinct().rdd.flatMap(lambda x: x).collect()\n",
        "item_ids = walmart_sales_df.select(\"item_id\").distinct().rdd.flatMap(lambda x: x).collect()\n",
        "store_ids = walmart_sales_df.select(\"store_id\").distinct().rdd.flatMap(lambda x: x).collect()\n",
        "\n",
        "# Création de toutes les combinaisons possibles\n",
        "combinaisons = []\n",
        "for year in years:\n",
        "  for month in months:\n",
        "    for store_id in store_ids:\n",
        "      for item_id in item_ids:\n",
        "        combinaisons.append((year, month, item_id, store_id))\n",
        "\n",
        "combinaisons_df = spark.createDataFrame(combinaisons, [\"year\", \"month\", \"item_id\", \"store_id\"])\n",
        "\n",
        "\n",
        "# Jointure entre les combinaisons et walmart_sales\n",
        "final_df = combinaisons_df.join(walmart_sales_df, [\"year\", \"month\", \"item_id\", \"store_id\"], \"left\")\n",
        "\n",
        "# Remplace les valeurs manquantes de sales par des 0\n",
        "final_df = final_df.fillna(0, subset=[\"sales\"])\n"
      ],
      "metadata": {
        "id": "_lYUeJAVR6In"
      },
      "execution_count": 9,
      "outputs": []
    },
    {
      "cell_type": "code",
      "source": [
        "final_df.show(5)"
      ],
      "metadata": {
        "colab": {
          "base_uri": "https://localhost:8080/"
        },
        "id": "FmS48q2wU1xT",
        "outputId": "743c6429-dff6-4e4c-cb65-526e1f7362b3"
      },
      "execution_count": 10,
      "outputs": [
        {
          "output_type": "stream",
          "name": "stdout",
          "text": [
            "+----+-----+---------------+--------+-----+\n",
            "|year|month|        item_id|store_id|sales|\n",
            "+----+-----+---------------+--------+-----+\n",
            "|2013|   12|    FOODS_3_025|    WI_2|    6|\n",
            "|2013|   12|  HOBBIES_1_021|    WI_2|    3|\n",
            "|2013|   12|  HOBBIES_1_239|    WI_2|    5|\n",
            "|2013|   12|HOUSEHOLD_1_073|    WI_2|    1|\n",
            "|2013|   12|HOUSEHOLD_2_066|    WI_2|    0|\n",
            "+----+-----+---------------+--------+-----+\n",
            "only showing top 5 rows\n",
            "\n"
          ]
        }
      ]
    },
    {
      "cell_type": "markdown",
      "source": [
        "# Exportation du dataframe"
      ],
      "metadata": {
        "id": "dwzrlIjEpvzI"
      }
    },
    {
      "cell_type": "code",
      "source": [
        "#exportation final_df en csv\n",
        "final_df.write.csv(\"walmart_data/final_df\")"
      ],
      "metadata": {
        "id": "L8R1vR8QpzJC"
      },
      "execution_count": 12,
      "outputs": []
    },
    {
      "cell_type": "code",
      "source": [
        "# Compte nombre de ligne de final_df\n",
        "#final_df.count()"
      ],
      "metadata": {
        "colab": {
          "base_uri": "https://localhost:8080/"
        },
        "id": "mRnJwc-vHOWi",
        "outputId": "a5e4fcaf-008a-4f0b-a867-0cc1496dbf8e"
      },
      "execution_count": null,
      "outputs": [
        {
          "output_type": "execute_result",
          "data": {
            "text/plain": [
              "2195280"
            ]
          },
          "metadata": {},
          "execution_count": 9
        }
      ]
    },
    {
      "cell_type": "code",
      "source": [
        "# Compte nombre de lignes de walmart_sales_df\n",
        "#walmart_sales_df.count()"
      ],
      "metadata": {
        "colab": {
          "base_uri": "https://localhost:8080/"
        },
        "id": "cvJFI_M1JRTf",
        "outputId": "4f888592-aa56-46b4-b730-e65a790fa1eb"
      },
      "execution_count": null,
      "outputs": [
        {
          "output_type": "execute_result",
          "data": {
            "text/plain": [
              "1951360"
            ]
          },
          "metadata": {},
          "execution_count": 10
        }
      ]
    }
  ]
}