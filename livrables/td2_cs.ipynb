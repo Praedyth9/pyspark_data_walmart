{
  "nbformat": 4,
  "nbformat_minor": 0,
  "metadata": {
    "colab": {
      "provenance": []
    },
    "kernelspec": {
      "name": "python3",
      "display_name": "Python 3"
    },
    "language_info": {
      "name": "python"
    }
  },
  "cells": [
    {
      "cell_type": "markdown",
      "source": [
        "# Téléchargement de pyspark et importation des modules"
      ],
      "metadata": {
        "id": "kKzwHKSXrHnx"
      }
    },
    {
      "cell_type": "code",
      "source": [
        "!pip install pyspark"
      ],
      "metadata": {
        "colab": {
          "base_uri": "https://localhost:8080/"
        },
        "id": "HcHIHrXhrhcQ",
        "outputId": "515f3304-0c5b-4775-9b54-24b8d7103c9b"
      },
      "execution_count": 1,
      "outputs": [
        {
          "output_type": "stream",
          "name": "stdout",
          "text": [
            "Collecting pyspark\n",
            "  Downloading pyspark-3.5.3.tar.gz (317.3 MB)\n",
            "\u001b[2K     \u001b[90m━━━━━━━━━━━━━━━━━━━━━━━━━━━━━━━━━━━━━━━━\u001b[0m \u001b[32m317.3/317.3 MB\u001b[0m \u001b[31m3.1 MB/s\u001b[0m eta \u001b[36m0:00:00\u001b[0m\n",
            "\u001b[?25h  Preparing metadata (setup.py) ... \u001b[?25l\u001b[?25hdone\n",
            "Requirement already satisfied: py4j==0.10.9.7 in /usr/local/lib/python3.10/dist-packages (from pyspark) (0.10.9.7)\n",
            "Building wheels for collected packages: pyspark\n",
            "  Building wheel for pyspark (setup.py) ... \u001b[?25l\u001b[?25hdone\n",
            "  Created wheel for pyspark: filename=pyspark-3.5.3-py2.py3-none-any.whl size=317840625 sha256=7ee9f222debdf5db51dd42a476d02247a81cfc05c72248d4036cb62f248afb72\n",
            "  Stored in directory: /root/.cache/pip/wheels/1b/3a/92/28b93e2fbfdbb07509ca4d6f50c5e407f48dce4ddbda69a4ab\n",
            "Successfully built pyspark\n",
            "Installing collected packages: pyspark\n",
            "Successfully installed pyspark-3.5.3\n"
          ]
        }
      ]
    },
    {
      "cell_type": "code",
      "source": [
        "from pyspark.sql import SparkSession, Window\n",
        "from pyspark.sql import functions as F\n",
        "import matplotlib.pyplot as plt\n",
        "from google.colab import drive\n",
        "drive.mount('/content/drive')"
      ],
      "metadata": {
        "colab": {
          "base_uri": "https://localhost:8080/"
        },
        "id": "EHZaz3EmrkTL",
        "outputId": "3458a01d-49e2-4d13-a6ed-3ea87aa10dca"
      },
      "execution_count": 2,
      "outputs": [
        {
          "output_type": "stream",
          "name": "stdout",
          "text": [
            "Mounted at /content/drive\n"
          ]
        }
      ]
    },
    {
      "cell_type": "markdown",
      "source": [
        "# Importation données walmart et dataframe du TD1"
      ],
      "metadata": {
        "id": "TqXaLZHmqoko"
      }
    },
    {
      "cell_type": "code",
      "execution_count": 3,
      "metadata": {
        "colab": {
          "base_uri": "https://localhost:8080/"
        },
        "id": "7p8N4YEkqlKP",
        "outputId": "2c450cf3-8d3a-4b91-c9fb-9b18f1b2b1a9"
      },
      "outputs": [
        {
          "output_type": "stream",
          "name": "stdout",
          "text": [
            "--2024-10-15 14:38:02--  https://github.com/ettouilebouael/pyspark_for_datascience/raw/refs/heads/main/data/walmart_data.zip\n",
            "Resolving github.com (github.com)... 140.82.113.3\n",
            "Connecting to github.com (github.com)|140.82.113.3|:443... connected.\n",
            "HTTP request sent, awaiting response... 302 Found\n",
            "Location: https://media.githubusercontent.com/media/ettouilebouael/pyspark_for_datascience/refs/heads/main/data/walmart_data.zip [following]\n",
            "--2024-10-15 14:38:02--  https://media.githubusercontent.com/media/ettouilebouael/pyspark_for_datascience/refs/heads/main/data/walmart_data.zip\n",
            "Resolving media.githubusercontent.com (media.githubusercontent.com)... 185.199.110.133, 185.199.111.133, 185.199.109.133, ...\n",
            "Connecting to media.githubusercontent.com (media.githubusercontent.com)|185.199.110.133|:443... connected.\n",
            "HTTP request sent, awaiting response... 200 OK\n",
            "Length: 132754996 (127M) [application/zip]\n",
            "Saving to: ‘walmart_data.zip’\n",
            "\n",
            "walmart_data.zip    100%[===================>] 126.60M   143MB/s    in 0.9s    \n",
            "\n",
            "2024-10-15 14:38:07 (143 MB/s) - ‘walmart_data.zip’ saved [132754996/132754996]\n",
            "\n",
            "Archive:  walmart_data.zip\n",
            "  inflating: walmart_data/calendar.parquet  \n",
            "  inflating: walmart_data/sell_prices.parquet  \n",
            "  inflating: walmart_data/walmart_sales.parquet  \n"
          ]
        }
      ],
      "source": [
        "# Téléchargement des données à partir du repo git\n",
        "!wget \"https://github.com/ettouilebouael/pyspark_for_datascience/raw/refs/heads/main/data/walmart_data.zip\"\n",
        "\n",
        "# Création d'un dossier pour les données walmart\n",
        "!mkdir walmart_data\n",
        "\n",
        "# Décompression du fichier zip contenant les données\n",
        "!unzip walmart_data.zip -d walmart_data\n",
        "\n"
      ]
    },
    {
      "cell_type": "code",
      "source": [
        "spark = SparkSession.builder.getOrCreate()"
      ],
      "metadata": {
        "id": "Q8WUQ_dlsyMr"
      },
      "execution_count": 4,
      "outputs": []
    },
    {
      "cell_type": "code",
      "source": [
        "#Lecture des parquets\n",
        "sell_prices_df = spark.read.parquet(\"/content/walmart_data/sell_prices.parquet\")\n",
        "sell_prices_df.printSchema()\n",
        "sell_prices_df.show(5)"
      ],
      "metadata": {
        "colab": {
          "base_uri": "https://localhost:8080/"
        },
        "id": "qfbj9t6IsQi3",
        "outputId": "0408e2da-2773-4f0c-fce6-9b8f6c051aec"
      },
      "execution_count": 5,
      "outputs": [
        {
          "output_type": "stream",
          "name": "stdout",
          "text": [
            "root\n",
            " |-- store_id: string (nullable = true)\n",
            " |-- item_id: string (nullable = true)\n",
            " |-- wm_yr_wk: long (nullable = true)\n",
            " |-- sell_price: double (nullable = true)\n",
            "\n",
            "+--------+-------------+--------+----------+\n",
            "|store_id|      item_id|wm_yr_wk|sell_price|\n",
            "+--------+-------------+--------+----------+\n",
            "|    CA_1|HOBBIES_1_001|   11325|      9.58|\n",
            "|    CA_1|HOBBIES_1_001|   11326|      9.58|\n",
            "|    CA_1|HOBBIES_1_001|   11327|      8.26|\n",
            "|    CA_1|HOBBIES_1_001|   11328|      8.26|\n",
            "|    CA_1|HOBBIES_1_001|   11329|      8.26|\n",
            "+--------+-------------+--------+----------+\n",
            "only showing top 5 rows\n",
            "\n"
          ]
        }
      ]
    },
    {
      "cell_type": "code",
      "source": [
        "calendar_df = spark.read.parquet(\"/content/walmart_data/calendar.parquet\")\n",
        "calendar_df.printSchema()\n",
        "calendar_df.show(5)"
      ],
      "metadata": {
        "colab": {
          "base_uri": "https://localhost:8080/"
        },
        "id": "mX8j7FH4sh5s",
        "outputId": "5dbd2e57-923a-446c-b37e-19f83eb83c77"
      },
      "execution_count": 6,
      "outputs": [
        {
          "output_type": "stream",
          "name": "stdout",
          "text": [
            "root\n",
            " |-- date: string (nullable = true)\n",
            " |-- wm_yr_wk: long (nullable = true)\n",
            " |-- weekday: string (nullable = true)\n",
            " |-- wday: long (nullable = true)\n",
            " |-- month: long (nullable = true)\n",
            " |-- year: long (nullable = true)\n",
            " |-- d: string (nullable = true)\n",
            " |-- event_name_1: string (nullable = true)\n",
            " |-- event_type_1: string (nullable = true)\n",
            " |-- event_name_2: string (nullable = true)\n",
            " |-- event_type_2: string (nullable = true)\n",
            " |-- snap_CA: long (nullable = true)\n",
            " |-- snap_TX: long (nullable = true)\n",
            " |-- snap_WI: long (nullable = true)\n",
            "\n",
            "+----------+--------+---------+----+-----+----+---+------------+------------+------------+------------+-------+-------+-------+\n",
            "|      date|wm_yr_wk|  weekday|wday|month|year|  d|event_name_1|event_type_1|event_name_2|event_type_2|snap_CA|snap_TX|snap_WI|\n",
            "+----------+--------+---------+----+-----+----+---+------------+------------+------------+------------+-------+-------+-------+\n",
            "|2011-01-29|   11101| Saturday|   1|    1|2011|d_1|        NULL|        NULL|        NULL|        NULL|      0|      0|      0|\n",
            "|2011-01-30|   11101|   Sunday|   2|    1|2011|d_2|        NULL|        NULL|        NULL|        NULL|      0|      0|      0|\n",
            "|2011-01-31|   11101|   Monday|   3|    1|2011|d_3|        NULL|        NULL|        NULL|        NULL|      0|      0|      0|\n",
            "|2011-02-01|   11101|  Tuesday|   4|    2|2011|d_4|        NULL|        NULL|        NULL|        NULL|      1|      1|      0|\n",
            "|2011-02-02|   11101|Wednesday|   5|    2|2011|d_5|        NULL|        NULL|        NULL|        NULL|      1|      0|      1|\n",
            "+----------+--------+---------+----+-----+----+---+------------+------------+------------+------------+-------+-------+-------+\n",
            "only showing top 5 rows\n",
            "\n"
          ]
        }
      ]
    },
    {
      "cell_type": "markdown",
      "source": [
        "Il faut convertir la date au bon format"
      ],
      "metadata": {
        "id": "BK2Yrg9ovPzu"
      }
    },
    {
      "cell_type": "markdown",
      "source": [
        "Nous re-importons le df walmart_sales puisque la date a été modifié lors du TD1"
      ],
      "metadata": {
        "id": "mVkw6xCkADP_"
      }
    },
    {
      "cell_type": "code",
      "source": [
        "walmart_sales_df = spark.read.parquet(\"/content/walmart_data/walmart_sales.parquet\")\n",
        "walmart_sales_df.printSchema()\n",
        "walmart_sales_df.show(5)"
      ],
      "metadata": {
        "colab": {
          "base_uri": "https://localhost:8080/"
        },
        "id": "qKXuFU4jAJcm",
        "outputId": "94216fcb-9d11-4bc1-adce-fb9048e909c9"
      },
      "execution_count": 7,
      "outputs": [
        {
          "output_type": "stream",
          "name": "stdout",
          "text": [
            "root\n",
            " |-- item_id: string (nullable = true)\n",
            " |-- dept_id: string (nullable = true)\n",
            " |-- cat_id: string (nullable = true)\n",
            " |-- store_id: string (nullable = true)\n",
            " |-- state_id: string (nullable = true)\n",
            " |-- id: string (nullable = true)\n",
            " |-- date: string (nullable = true)\n",
            " |-- sales: long (nullable = true)\n",
            "\n",
            "+-------------+---------+-------+--------+--------+--------------------+----------+-----+\n",
            "|      item_id|  dept_id| cat_id|store_id|state_id|                  id|      date|sales|\n",
            "+-------------+---------+-------+--------+--------+--------------------+----------+-----+\n",
            "|HOBBIES_1_001|HOBBIES_1|HOBBIES|    CA_1|      CA|HOBBIES_1_001_CA_...|2011-01-29|    0|\n",
            "|HOBBIES_1_002|HOBBIES_1|HOBBIES|    CA_1|      CA|HOBBIES_1_002_CA_...|2011-01-29|    0|\n",
            "|HOBBIES_1_003|HOBBIES_1|HOBBIES|    CA_1|      CA|HOBBIES_1_003_CA_...|2011-01-29|    0|\n",
            "|HOBBIES_1_004|HOBBIES_1|HOBBIES|    CA_1|      CA|HOBBIES_1_004_CA_...|2011-01-29|    0|\n",
            "|HOBBIES_1_005|HOBBIES_1|HOBBIES|    CA_1|      CA|HOBBIES_1_005_CA_...|2011-01-29|    0|\n",
            "+-------------+---------+-------+--------+--------+--------------------+----------+-----+\n",
            "only showing top 5 rows\n",
            "\n"
          ]
        }
      ]
    },
    {
      "cell_type": "code",
      "source": [
        "data_td1_df = spark.read.parquet(\"/content/drive/MyDrive/monthly_sales_data/\")\n",
        "data_td1_df.printSchema()\n",
        "data_td1_df.show(5)"
      ],
      "metadata": {
        "colab": {
          "base_uri": "https://localhost:8080/"
        },
        "id": "5MaFIqiYs-cx",
        "outputId": "51da86a7-6c7a-4db9-d347-ebaf5038aec1"
      },
      "execution_count": 8,
      "outputs": [
        {
          "output_type": "stream",
          "name": "stdout",
          "text": [
            "root\n",
            " |-- item_id: string (nullable = true)\n",
            " |-- store_id: string (nullable = true)\n",
            " |-- date: date (nullable = true)\n",
            " |-- dept_id: string (nullable = true)\n",
            " |-- cat_id: string (nullable = true)\n",
            " |-- state_id: string (nullable = true)\n",
            " |-- id: string (nullable = true)\n",
            " |-- sales: long (nullable = true)\n",
            "\n",
            "+-----------+--------+----------+-------+------+--------+--------------------+-----+\n",
            "|    item_id|store_id|      date|dept_id|cat_id|state_id|                  id|sales|\n",
            "+-----------+--------+----------+-------+------+--------+--------------------+-----+\n",
            "|FOODS_1_001|    CA_1|2011-01-01|FOODS_1| FOODS|      CA|FOODS_1_001_CA_1_...|    3|\n",
            "|FOODS_1_001|    CA_1|2011-10-01|FOODS_1| FOODS|      CA|FOODS_1_001_CA_1_...|    0|\n",
            "|FOODS_1_001|    CA_1|2011-11-01|FOODS_1| FOODS|      CA|FOODS_1_001_CA_1_...|   42|\n",
            "|FOODS_1_001|    CA_1|2012-03-01|FOODS_1| FOODS|      CA|FOODS_1_001_CA_1_...|   38|\n",
            "|FOODS_1_001|    CA_1|2012-06-01|FOODS_1| FOODS|      CA|FOODS_1_001_CA_1_...|   25|\n",
            "+-----------+--------+----------+-------+------+--------+--------------------+-----+\n",
            "only showing top 5 rows\n",
            "\n"
          ]
        }
      ]
    },
    {
      "cell_type": "markdown",
      "source": [
        "Ici, la date est déjà dans le format date, pas besoin de conversion !"
      ],
      "metadata": {
        "id": "nbgiDjEivHZI"
      }
    },
    {
      "cell_type": "code",
      "source": [
        "#Conversion des variables date du dataframe calendar et walmart\n",
        "walmart_sales_df = walmart_sales_df.withColumn(\"date\", F.to_date(F.col(\"date\"), \"yyyy-MM-dd\"))\n",
        "calendar_df = calendar_df.withColumn(\"date\", F.to_date(F.col(\"date\"), \"yyyy-MM-dd\"))"
      ],
      "metadata": {
        "id": "buT31kRXw6IH"
      },
      "execution_count": 9,
      "outputs": []
    },
    {
      "cell_type": "markdown",
      "source": [
        "# Extraction des caractéristiques temporelles (Mois | Année | Trimestre)"
      ],
      "metadata": {
        "id": "xWoKJXAYu2sD"
      }
    },
    {
      "cell_type": "markdown",
      "source": [
        "Parsing des dates du dataframe du TD 1"
      ],
      "metadata": {
        "id": "ZioJQK1fxVlp"
      }
    },
    {
      "cell_type": "code",
      "source": [
        "data_td1_df = data_td1_df.withColumn(\"year\", F.year(\"date\"))\n",
        "data_td1_df = data_td1_df.withColumn(\"month\", F.month(\"date\"))"
      ],
      "metadata": {
        "id": "XsEILBhgxxId"
      },
      "execution_count": 10,
      "outputs": []
    },
    {
      "cell_type": "markdown",
      "source": [
        "On ajoute les trimestres"
      ],
      "metadata": {
        "id": "mKp8NdMfyg28"
      }
    },
    {
      "cell_type": "code",
      "source": [
        "data_td1_df = data_td1_df.withColumn(\"quarter\", F.quarter(\"date\"))"
      ],
      "metadata": {
        "id": "dRuCfP6myner"
      },
      "execution_count": 11,
      "outputs": []
    },
    {
      "cell_type": "markdown",
      "source": [
        "Affichage du dataframe pour vérification"
      ],
      "metadata": {
        "id": "WpJkKG8szAnQ"
      }
    },
    {
      "cell_type": "code",
      "source": [
        "data_td1_df.show(5)"
      ],
      "metadata": {
        "colab": {
          "base_uri": "https://localhost:8080/"
        },
        "id": "WeT78wq4zDhR",
        "outputId": "7ed87853-1fe5-4c37-c678-3ad75c515d32"
      },
      "execution_count": null,
      "outputs": [
        {
          "output_type": "stream",
          "name": "stdout",
          "text": [
            "+-----------+--------+----------+-------+------+--------+--------------------+-----+----+-----+-------+\n",
            "|    item_id|store_id|      date|dept_id|cat_id|state_id|                  id|sales|year|month|quarter|\n",
            "+-----------+--------+----------+-------+------+--------+--------------------+-----+----+-----+-------+\n",
            "|FOODS_1_001|    CA_1|2011-01-01|FOODS_1| FOODS|      CA|FOODS_1_001_CA_1_...|    3|2011|    1|      1|\n",
            "|FOODS_1_001|    CA_1|2011-10-01|FOODS_1| FOODS|      CA|FOODS_1_001_CA_1_...|    0|2011|   10|      4|\n",
            "|FOODS_1_001|    CA_1|2011-11-01|FOODS_1| FOODS|      CA|FOODS_1_001_CA_1_...|   42|2011|   11|      4|\n",
            "|FOODS_1_001|    CA_1|2012-03-01|FOODS_1| FOODS|      CA|FOODS_1_001_CA_1_...|   38|2012|    3|      1|\n",
            "|FOODS_1_001|    CA_1|2012-06-01|FOODS_1| FOODS|      CA|FOODS_1_001_CA_1_...|   25|2012|    6|      2|\n",
            "+-----------+--------+----------+-------+------+--------+--------------------+-----+----+-----+-------+\n",
            "only showing top 5 rows\n",
            "\n"
          ]
        }
      ]
    },
    {
      "cell_type": "markdown",
      "source": [
        "Les attributs des produits et magasins sont déjà présents, pas besoin de manipuler le df"
      ],
      "metadata": {
        "id": "t-IEtKIJzwTT"
      }
    },
    {
      "cell_type": "markdown",
      "source": [
        "# Lags des ventes de M-1 à M-12"
      ],
      "metadata": {
        "id": "U_Jo5JQG5q5h"
      }
    },
    {
      "cell_type": "code",
      "source": [
        "# create lag of sales\n",
        "for i in range(1, 13):\n",
        "    data_td1_df = data_td1_df.withColumn(f\"sales_lag_{i}\", F.lag(F.col(\"sales\"), i).over(Window.partitionBy(\"item_id\", \"store_id\").orderBy(\"date\")))\n",
        "\n",
        "data_td1_df.show(5)\n"
      ],
      "metadata": {
        "colab": {
          "base_uri": "https://localhost:8080/"
        },
        "id": "Ai8gDeyp3zRe",
        "outputId": "b186b745-06c4-4dc3-ab79-605fff90cada"
      },
      "execution_count": 12,
      "outputs": [
        {
          "output_type": "stream",
          "name": "stdout",
          "text": [
            "+-----------+--------+----------+-------+------+--------+--------------------+-----+----+-----+-------+-----------+-----------+-----------+-----------+-----------+-----------+-----------+-----------+-----------+------------+------------+------------+\n",
            "|    item_id|store_id|      date|dept_id|cat_id|state_id|                  id|sales|year|month|quarter|sales_lag_1|sales_lag_2|sales_lag_3|sales_lag_4|sales_lag_5|sales_lag_6|sales_lag_7|sales_lag_8|sales_lag_9|sales_lag_10|sales_lag_11|sales_lag_12|\n",
            "+-----------+--------+----------+-------+------+--------+--------------------+-----+----+-----+-------+-----------+-----------+-----------+-----------+-----------+-----------+-----------+-----------+-----------+------------+------------+------------+\n",
            "|FOODS_1_001|    CA_1|2011-01-01|FOODS_1| FOODS|      CA|FOODS_1_001_CA_1_...|    3|2011|    1|      1|       NULL|       NULL|       NULL|       NULL|       NULL|       NULL|       NULL|       NULL|       NULL|        NULL|        NULL|        NULL|\n",
            "|FOODS_1_001|    CA_1|2011-02-01|FOODS_1| FOODS|      CA|FOODS_1_001_CA_1_...|   40|2011|    2|      1|          3|       NULL|       NULL|       NULL|       NULL|       NULL|       NULL|       NULL|       NULL|        NULL|        NULL|        NULL|\n",
            "|FOODS_1_001|    CA_1|2011-03-01|FOODS_1| FOODS|      CA|FOODS_1_001_CA_1_...|   40|2011|    3|      1|         40|          3|       NULL|       NULL|       NULL|       NULL|       NULL|       NULL|       NULL|        NULL|        NULL|        NULL|\n",
            "|FOODS_1_001|    CA_1|2011-04-01|FOODS_1| FOODS|      CA|FOODS_1_001_CA_1_...|   23|2011|    4|      2|         40|         40|          3|       NULL|       NULL|       NULL|       NULL|       NULL|       NULL|        NULL|        NULL|        NULL|\n",
            "|FOODS_1_001|    CA_1|2011-05-01|FOODS_1| FOODS|      CA|FOODS_1_001_CA_1_...|   50|2011|    5|      2|         23|         40|         40|          3|       NULL|       NULL|       NULL|       NULL|       NULL|        NULL|        NULL|        NULL|\n",
            "+-----------+--------+----------+-------+------+--------+--------------------+-----+----+-----+-------+-----------+-----------+-----------+-----------+-----------+-----------+-----------+-----------+-----------+------------+------------+------------+\n",
            "only showing top 5 rows\n",
            "\n"
          ]
        }
      ]
    },
    {
      "cell_type": "markdown",
      "source": [
        "Le lag a bien été effectué après vérification des cinq premières lignes, les valeurs manquantes sont ici puisque nous avons aucune donnée avant 2011"
      ],
      "metadata": {
        "id": "RFSXUUk075XZ"
      }
    },
    {
      "cell_type": "markdown",
      "source": [
        "# Afficher le prix moyen mensuel"
      ],
      "metadata": {
        "id": "IkPFD-Ya8SBZ"
      }
    },
    {
      "cell_type": "markdown",
      "source": [
        "Nous calculerons le prix moyen au mois en prenant le prix de l'article pour chaque jour du mois et en divisant la somme par le nombre de jour dans le mois"
      ],
      "metadata": {
        "id": "pS4TI2SVt7KN"
      }
    },
    {
      "cell_type": "markdown",
      "source": [
        "## Associer wm_yr_wk à la date dans sell_prices"
      ],
      "metadata": {
        "id": "4VD8Q3t68V2H"
      }
    },
    {
      "cell_type": "code",
      "source": [
        "# Commence par sélectionner les variables qui nous interessent dans le df\n",
        "df_core_prix = calendar_df.select(\"wm_yr_wk\", \"date\")\n",
        "\n",
        "sell_prices_df = sell_prices_df.join(df_core_prix, on=\"wm_yr_wk\", how=\"left\")\n",
        "sell_prices_df.show(5)"
      ],
      "metadata": {
        "colab": {
          "base_uri": "https://localhost:8080/"
        },
        "id": "X-IaU-W28Qtf",
        "outputId": "78803b3d-83a4-40b2-f203-263fd2197520"
      },
      "execution_count": 13,
      "outputs": [
        {
          "output_type": "stream",
          "name": "stdout",
          "text": [
            "+--------+--------+-------------+----------+----------+\n",
            "|wm_yr_wk|store_id|      item_id|sell_price|      date|\n",
            "+--------+--------+-------------+----------+----------+\n",
            "|   11325|    CA_1|HOBBIES_1_001|      9.58|2013-07-19|\n",
            "|   11325|    CA_1|HOBBIES_1_001|      9.58|2013-07-18|\n",
            "|   11325|    CA_1|HOBBIES_1_001|      9.58|2013-07-17|\n",
            "|   11325|    CA_1|HOBBIES_1_001|      9.58|2013-07-16|\n",
            "|   11325|    CA_1|HOBBIES_1_001|      9.58|2013-07-15|\n",
            "+--------+--------+-------------+----------+----------+\n",
            "only showing top 5 rows\n",
            "\n"
          ]
        }
      ]
    },
    {
      "cell_type": "code",
      "source": [
        "# Calcule le prix moyen en fonction de chaque produit et magasin\n",
        "avg_sell_price_df = (\n",
        "    sell_prices_df\n",
        "    .withColumn(\"month\", F.month(\"date\"))\n",
        "    .withColumn(\"year\", F.year(\"date\"))\n",
        "    .groupBy(\"item_id\", \"store_id\", \"month\", \"year\")\n",
        "    .agg(F.avg(\"sell_price\").alias(\"avg_sell_price\"))\n",
        ")\n",
        "\n",
        "avg_sell_price_df.show(5)"
      ],
      "metadata": {
        "id": "2Zon3pcTSA1v",
        "colab": {
          "base_uri": "https://localhost:8080/"
        },
        "outputId": "ce20dbd3-c0ec-46a7-9c6b-3e6cb559455b"
      },
      "execution_count": 14,
      "outputs": [
        {
          "output_type": "stream",
          "name": "stdout",
          "text": [
            "+-------------+--------+-----+----+------------------+\n",
            "|      item_id|store_id|month|year|    avg_sell_price|\n",
            "+-------------+--------+-----+----+------------------+\n",
            "|HOBBIES_1_004|    CA_1|    9|2011|4.3400000000000025|\n",
            "|HOBBIES_1_009|    CA_1|   11|2011| 1.770000000000001|\n",
            "|HOBBIES_1_014|    CA_1|    2|2016|1.1599999999999997|\n",
            "|HOBBIES_1_025|    CA_1|    9|2011| 3.739999999999999|\n",
            "|HOBBIES_1_028|    CA_1|    3|2012| 7.180000000000005|\n",
            "+-------------+--------+-----+----+------------------+\n",
            "only showing top 5 rows\n",
            "\n"
          ]
        }
      ]
    },
    {
      "cell_type": "markdown",
      "source": [
        "Jointure à gauche entre data_td1_df et avg_sell_price_df sur les variables item_id, store_id, month et year"
      ],
      "metadata": {
        "id": "jaebHF2C0OXP"
      }
    },
    {
      "cell_type": "code",
      "source": [
        "#left join\n",
        "data_td1_df = data_td1_df.join(avg_sell_price_df, on=[\"item_id\", \"store_id\", \"month\", \"year\"], how=\"left\")\n",
        "data_td1_df.show(5)"
      ],
      "metadata": {
        "colab": {
          "base_uri": "https://localhost:8080/"
        },
        "id": "K4AWeFi4OQi2",
        "outputId": "32c3f76e-aec4-41e6-b647-03a63e033b72"
      },
      "execution_count": 15,
      "outputs": [
        {
          "output_type": "stream",
          "name": "stdout",
          "text": [
            "+-----------+--------+-----+----+----------+-------+------+--------+--------------------+-----+-------+-----------+-----------+-----------+-----------+-----------+-----------+-----------+-----------+-----------+------------+------------+------------+--------------+\n",
            "|    item_id|store_id|month|year|      date|dept_id|cat_id|state_id|                  id|sales|quarter|sales_lag_1|sales_lag_2|sales_lag_3|sales_lag_4|sales_lag_5|sales_lag_6|sales_lag_7|sales_lag_8|sales_lag_9|sales_lag_10|sales_lag_11|sales_lag_12|avg_sell_price|\n",
            "+-----------+--------+-----+----+----------+-------+------+--------+--------------------+-----+-------+-----------+-----------+-----------+-----------+-----------+-----------+-----------+-----------+-----------+------------+------------+------------+--------------+\n",
            "|FOODS_1_001|    CA_1|    1|2011|2011-01-01|FOODS_1| FOODS|      CA|FOODS_1_001_CA_1_...|    3|      1|       NULL|       NULL|       NULL|       NULL|       NULL|       NULL|       NULL|       NULL|       NULL|        NULL|        NULL|        NULL|           2.0|\n",
            "|FOODS_1_001|    CA_1|    2|2011|2011-02-01|FOODS_1| FOODS|      CA|FOODS_1_001_CA_1_...|   40|      1|          3|       NULL|       NULL|       NULL|       NULL|       NULL|       NULL|       NULL|       NULL|        NULL|        NULL|        NULL|           2.0|\n",
            "|FOODS_1_001|    CA_1|    3|2011|2011-03-01|FOODS_1| FOODS|      CA|FOODS_1_001_CA_1_...|   40|      1|         40|          3|       NULL|       NULL|       NULL|       NULL|       NULL|       NULL|       NULL|        NULL|        NULL|        NULL|           2.0|\n",
            "|FOODS_1_001|    CA_1|    6|2011|2011-06-01|FOODS_1| FOODS|      CA|FOODS_1_001_CA_1_...|   28|      2|         50|         23|         40|         40|          3|       NULL|       NULL|       NULL|       NULL|        NULL|        NULL|        NULL|           2.0|\n",
            "|FOODS_1_001|    CA_3|    1|2011|2011-01-01|FOODS_1| FOODS|      CA|FOODS_1_001_CA_3_...|    4|      1|       NULL|       NULL|       NULL|       NULL|       NULL|       NULL|       NULL|       NULL|       NULL|        NULL|        NULL|        NULL|           2.0|\n",
            "+-----------+--------+-----+----+----------+-------+------+--------+--------------------+-----+-------+-----------+-----------+-----------+-----------+-----------+-----------+-----------+-----------+-----------+------------+------------+------------+--------------+\n",
            "only showing top 5 rows\n",
            "\n"
          ]
        }
      ]
    },
    {
      "cell_type": "markdown",
      "source": [
        "# Création du lead M+1 pour le nombre de ventes"
      ],
      "metadata": {
        "id": "pLA0muELoJYe"
      }
    },
    {
      "cell_type": "markdown",
      "source": [
        "Cela correspond à la création de la variable à prédire y(t+1). On construit donc ici notre ensemble d'apprentissage"
      ],
      "metadata": {
        "id": "9brSOslfo8sw"
      }
    },
    {
      "cell_type": "code",
      "source": [
        "data_td2_df = data_td1_df.withColumn(f\"sales_lead_1\", F.lead(F.col(\"sales\"), 1).over(Window.partitionBy(\"item_id\", \"store_id\").orderBy(\"date\")))"
      ],
      "metadata": {
        "id": "445j62VIocge"
      },
      "execution_count": 16,
      "outputs": []
    },
    {
      "cell_type": "markdown",
      "source": [
        "# Récence du produit"
      ],
      "metadata": {
        "id": "2TUmvqOFzr6A"
      }
    },
    {
      "cell_type": "markdown",
      "source": [
        "Nous allons récupérer la date de début de commercialisation de chaque produit en prenant la première date pour laquelle le prix associé au produit (et magasin) est présent"
      ],
      "metadata": {
        "id": "uHxNK9rVljsH"
      }
    },
    {
      "cell_type": "code",
      "source": [
        "data_td2_df.filter((F.col(\"avg_sell_price\").isNotNull()) & (F.col(\"sales\")==0) & (F.col(\"date\") == \"2011-01-01\")).select(\"item_id\", \"store_id\", \"date\", \"sales\", \"avg_sell_price\").show(5)"
      ],
      "metadata": {
        "colab": {
          "base_uri": "https://localhost:8080/"
        },
        "id": "pdU9sonzqyqE",
        "outputId": "0ff3ec06-337b-4c25-af61-de4c767094c8"
      },
      "execution_count": 23,
      "outputs": [
        {
          "output_type": "stream",
          "name": "stdout",
          "text": [
            "+---------------+--------+----------+-----+--------------+\n",
            "|        item_id|store_id|      date|sales|avg_sell_price|\n",
            "+---------------+--------+----------+-----+--------------+\n",
            "|  HOBBIES_1_356|    CA_1|2011-01-01|    0|          4.98|\n",
            "|  HOBBIES_1_289|    CA_3|2011-01-01|    0|          4.97|\n",
            "|  HOBBIES_1_321|    CA_3|2011-01-01|    0|          6.44|\n",
            "|HOUSEHOLD_1_178|    CA_4|2011-01-01|    0|          4.27|\n",
            "|HOUSEHOLD_2_441|    CA_4|2011-01-01|    0|          4.94|\n",
            "+---------------+--------+----------+-----+--------------+\n",
            "only showing top 5 rows\n",
            "\n"
          ]
        }
      ]
    },
    {
      "cell_type": "markdown",
      "source": [
        "On peut voir que des produits étaient commercialisés dès le début du dataframe mais n'ont pas été vendus lors du premier mois. Cela s'explique notamment par le fait que le premier mois dans la base de données contient que 3 jours, d'où le choix effectué pour calculer la récence du produit."
      ],
      "metadata": {
        "id": "r3T8YSHYsZTB"
      }
    },
    {
      "cell_type": "code",
      "source": [
        "first_avg_df = (\n",
        "    data_td2_df\n",
        "    .filter(F.col(\"avg_sell_price\").isNotNull()) #retire les NA dans avg_sell_price\n",
        "    .groupBy(\"item_id\", \"store_id\") #regroupe par item|store\n",
        "    .agg(F.min(\"date\").alias(\"first_date\")) #recupere la date min\n",
        ")\n",
        "\n",
        "first_avg_df.show(5)"
      ],
      "metadata": {
        "colab": {
          "base_uri": "https://localhost:8080/"
        },
        "id": "HgGDHkKFmQ65",
        "outputId": "cfc93222-0f71-4691-a140-e5ab00314e9d"
      },
      "execution_count": 18,
      "outputs": [
        {
          "output_type": "stream",
          "name": "stdout",
          "text": [
            "+---------------+--------+----------+\n",
            "|        item_id|store_id|first_date|\n",
            "+---------------+--------+----------+\n",
            "|  HOBBIES_2_104|    CA_1|2013-04-01|\n",
            "|HOUSEHOLD_1_145|    CA_1|2011-01-01|\n",
            "|HOUSEHOLD_1_480|    CA_1|2013-08-01|\n",
            "|HOUSEHOLD_2_295|    CA_1|2011-01-01|\n",
            "|HOUSEHOLD_2_305|    CA_1|2011-01-01|\n",
            "+---------------+--------+----------+\n",
            "only showing top 5 rows\n",
            "\n"
          ]
        }
      ]
    },
    {
      "cell_type": "markdown",
      "source": [
        "On réalise une jointure à gauche entre data_td2_df et first_avg_df sur les variables item_id et store_id, puis on calcule la difference entre les dates min et le mois correspondant"
      ],
      "metadata": {
        "id": "W80xBABtoT45"
      }
    },
    {
      "cell_type": "code",
      "source": [
        "data_td2_df = data_td2_df.join(first_avg_df, on=[\"item_id\", \"store_id\"], how=\"left\")\n",
        "data_td2_df = data_td2_df.withColumn(\"recency\", F.datediff(F.col(\"date\"), F.col(\"first_date\")))\n",
        "data_td2_df.show(5)"
      ],
      "metadata": {
        "colab": {
          "base_uri": "https://localhost:8080/"
        },
        "id": "bMjfUCBeopYj",
        "outputId": "0df173e5-f848-4cb0-8e2f-b984030ec683"
      },
      "execution_count": 19,
      "outputs": [
        {
          "output_type": "stream",
          "name": "stdout",
          "text": [
            "+-----------+--------+-----+----+----------+-------+------+--------+--------------------+-----+-------+-----------+-----------+-----------+-----------+-----------+-----------+-----------+-----------+-----------+------------+------------+------------+--------------+------------+----------+-------+\n",
            "|    item_id|store_id|month|year|      date|dept_id|cat_id|state_id|                  id|sales|quarter|sales_lag_1|sales_lag_2|sales_lag_3|sales_lag_4|sales_lag_5|sales_lag_6|sales_lag_7|sales_lag_8|sales_lag_9|sales_lag_10|sales_lag_11|sales_lag_12|avg_sell_price|sales_lead_1|first_date|recency|\n",
            "+-----------+--------+-----+----+----------+-------+------+--------+--------------------+-----+-------+-----------+-----------+-----------+-----------+-----------+-----------+-----------+-----------+-----------+------------+------------+------------+--------------+------------+----------+-------+\n",
            "|FOODS_1_001|    CA_1|    1|2011|2011-01-01|FOODS_1| FOODS|      CA|FOODS_1_001_CA_1_...|    3|      1|       NULL|       NULL|       NULL|       NULL|       NULL|       NULL|       NULL|       NULL|       NULL|        NULL|        NULL|        NULL|           2.0|          40|2011-01-01|      0|\n",
            "|FOODS_1_001|    CA_1|    2|2011|2011-02-01|FOODS_1| FOODS|      CA|FOODS_1_001_CA_1_...|   40|      1|          3|       NULL|       NULL|       NULL|       NULL|       NULL|       NULL|       NULL|       NULL|        NULL|        NULL|        NULL|           2.0|          40|2011-01-01|     31|\n",
            "|FOODS_1_001|    CA_1|    3|2011|2011-03-01|FOODS_1| FOODS|      CA|FOODS_1_001_CA_1_...|   40|      1|         40|          3|       NULL|       NULL|       NULL|       NULL|       NULL|       NULL|       NULL|        NULL|        NULL|        NULL|           2.0|          23|2011-01-01|     59|\n",
            "|FOODS_1_001|    CA_1|    4|2011|2011-04-01|FOODS_1| FOODS|      CA|FOODS_1_001_CA_1_...|   23|      2|         40|         40|          3|       NULL|       NULL|       NULL|       NULL|       NULL|       NULL|        NULL|        NULL|        NULL|           2.0|          50|2011-01-01|     90|\n",
            "|FOODS_1_001|    CA_1|    5|2011|2011-05-01|FOODS_1| FOODS|      CA|FOODS_1_001_CA_1_...|   50|      2|         23|         40|         40|          3|       NULL|       NULL|       NULL|       NULL|       NULL|        NULL|        NULL|        NULL|           2.0|          28|2011-01-01|    120|\n",
            "+-----------+--------+-----+----+----------+-------+------+--------+--------------------+-----+-------+-----------+-----------+-----------+-----------+-----------+-----------+-----------+-----------+-----------+------------+------------+------------+--------------+------------+----------+-------+\n",
            "only showing top 5 rows\n",
            "\n"
          ]
        }
      ]
    },
    {
      "cell_type": "markdown",
      "source": [
        "# Sauvegarde de la base de données en parquet"
      ],
      "metadata": {
        "id": "vx-YshEFtuRJ"
      }
    },
    {
      "cell_type": "code",
      "source": [
        "data_td2_df.write.parquet(\"/content/drive/MyDrive/data_td2_df\")"
      ],
      "metadata": {
        "id": "nQnbt3xytqUi"
      },
      "execution_count": 25,
      "outputs": []
    },
    {
      "cell_type": "markdown",
      "source": [
        "# Analyse du dataframe sell_prices"
      ],
      "metadata": {
        "id": "WFMy-_Pk16Zg"
      }
    },
    {
      "cell_type": "code",
      "source": [
        "#re importe le dataframe puisque modifié dans le code précédent\n",
        "sell_prices_df = spark.read.parquet(\"/content/walmart_data/sell_prices.parquet\")\n",
        "sell_prices_df.printSchema()\n",
        "sell_prices_df.show(5)"
      ],
      "metadata": {
        "colab": {
          "base_uri": "https://localhost:8080/"
        },
        "id": "RolKFfga65PP",
        "outputId": "cefc007c-ba91-4d7d-cc4b-a10cc4d8e7c6"
      },
      "execution_count": null,
      "outputs": [
        {
          "output_type": "stream",
          "name": "stdout",
          "text": [
            "root\n",
            " |-- store_id: string (nullable = true)\n",
            " |-- item_id: string (nullable = true)\n",
            " |-- wm_yr_wk: long (nullable = true)\n",
            " |-- sell_price: double (nullable = true)\n",
            "\n",
            "+--------+-------------+--------+----------+\n",
            "|store_id|      item_id|wm_yr_wk|sell_price|\n",
            "+--------+-------------+--------+----------+\n",
            "|    CA_1|HOBBIES_1_001|   11325|      9.58|\n",
            "|    CA_1|HOBBIES_1_001|   11326|      9.58|\n",
            "|    CA_1|HOBBIES_1_001|   11327|      8.26|\n",
            "|    CA_1|HOBBIES_1_001|   11328|      8.26|\n",
            "|    CA_1|HOBBIES_1_001|   11329|      8.26|\n",
            "+--------+-------------+--------+----------+\n",
            "only showing top 5 rows\n",
            "\n"
          ]
        }
      ]
    },
    {
      "cell_type": "markdown",
      "source": [
        "La partie ci-dessous se concentrera sur l'analyse du dataframe sell_prices. Nous avons vu auparavant que chaque produit était présent dans la base walmart dès le 29/01/2011. (d'où les 30 490 occurences de la date dans la base, 3 049 produits dans 10 magasins distincts).  "
      ],
      "metadata": {
        "id": "bCwAyH_Q2BfH"
      }
    },
    {
      "cell_type": "code",
      "source": [
        "#count unique item id\n",
        "sell_prices_df.select(\"item_id\").distinct().count()"
      ],
      "metadata": {
        "colab": {
          "base_uri": "https://localhost:8080/"
        },
        "id": "S2tLIT-L2-DT",
        "outputId": "3120a770-5299-42bf-fa1c-66c42af90e92"
      },
      "execution_count": null,
      "outputs": [
        {
          "output_type": "execute_result",
          "data": {
            "text/plain": [
              "3049"
            ]
          },
          "metadata": {},
          "execution_count": 29
        }
      ]
    },
    {
      "cell_type": "code",
      "source": [
        "#count unique store_id\n",
        "sell_prices_df.select(\"store_id\").distinct().count()"
      ],
      "metadata": {
        "colab": {
          "base_uri": "https://localhost:8080/"
        },
        "id": "c5S0xmGI29x5",
        "outputId": "feb37081-6f97-439f-c2eb-351294cd1eca"
      },
      "execution_count": null,
      "outputs": [
        {
          "output_type": "execute_result",
          "data": {
            "text/plain": [
              "10"
            ]
          },
          "metadata": {},
          "execution_count": 30
        }
      ]
    },
    {
      "cell_type": "markdown",
      "source": [
        "## Absence de prix pour certaines dates ..."
      ],
      "metadata": {
        "id": "Rag3YbCz2hwv"
      }
    },
    {
      "cell_type": "markdown",
      "source": [
        "Il est possible de remarquer qu'un article n'a pas de prix pour chaque semaine comprise entre le 29/01/2011 et la fin du dataframe. On s'interesse tout d'abord à la première semaine présente dans le dataframe, i.e wm_yr_wk == 11 101"
      ],
      "metadata": {
        "id": "53RtgcbJ2ne7"
      }
    },
    {
      "cell_type": "code",
      "source": [
        "sell_prices_df.filter(F.col(\"wm_yr_wk\") == 11101).count()"
      ],
      "metadata": {
        "colab": {
          "base_uri": "https://localhost:8080/"
        },
        "id": "Au2HvX0-23hQ",
        "outputId": "3d034c7e-7f05-45b6-9160-3140c401fd60"
      },
      "execution_count": null,
      "outputs": [
        {
          "output_type": "execute_result",
          "data": {
            "text/plain": [
              "10932"
            ]
          },
          "metadata": {},
          "execution_count": 33
        }
      ]
    },
    {
      "cell_type": "markdown",
      "source": [
        "Que 10932 occurences de la valeur 11101, alors que si tout les produits dans tout les magasins étaient vendus à cette date, on aurait donc 30490. (On a donc que 35,85% de la cohorte totale).\n",
        "\n",
        "Remarque : 10932 pas divisble par 10 (étant le nombre de magasins différents), on conclut donc que certains articles étaient vendus la semaine du 29/01/2011 mais uniquement dans certains magasins, pas la totalité d'entre eux."
      ],
      "metadata": {
        "id": "MKe4OfrY7H0v"
      }
    },
    {
      "cell_type": "markdown",
      "source": [
        "Pour nous conforter dans l'idée que certains produits ne sont pas disponibles pendant plusieurs semaines, nous pouvons nous intéresser à l'item_id HOBBIES_1_001, qui est totalement absent de la base avant la semaine correspondant à wm_yr_wk = 11325"
      ],
      "metadata": {
        "id": "h9H9aipg8HfI"
      }
    },
    {
      "cell_type": "code",
      "source": [
        "sell_prices_df.filter((F.col(\"item_id\") == \"HOBBIES_1_001\") & (F.col(\"wm_yr_wk\") < 11325)).show(5)"
      ],
      "metadata": {
        "colab": {
          "base_uri": "https://localhost:8080/"
        },
        "id": "fAq75_MB8kFp",
        "outputId": "a0d96b3d-965b-4632-a00a-2d2c55c9936c"
      },
      "execution_count": null,
      "outputs": [
        {
          "output_type": "stream",
          "name": "stdout",
          "text": [
            "+--------+-------+--------+----------+\n",
            "|store_id|item_id|wm_yr_wk|sell_price|\n",
            "+--------+-------+--------+----------+\n",
            "+--------+-------+--------+----------+\n",
            "\n"
          ]
        }
      ]
    },
    {
      "cell_type": "markdown",
      "source": [
        "Si on prend une semaine qui correspond à une valeur plus élevée pour \"wm_yr_wk\" :"
      ],
      "metadata": {
        "id": "3ZE5X7JS8sNd"
      }
    },
    {
      "cell_type": "code",
      "source": [
        "sell_prices_df.filter((F.col(\"item_id\") == \"HOBBIES_1_001\") & (F.col(\"wm_yr_wk\") >= 11325)).show(5)"
      ],
      "metadata": {
        "colab": {
          "base_uri": "https://localhost:8080/"
        },
        "id": "3e_BKJD38y48",
        "outputId": "4fccb8cc-e620-4dbe-c921-d6e17994ae63"
      },
      "execution_count": null,
      "outputs": [
        {
          "output_type": "stream",
          "name": "stdout",
          "text": [
            "+--------+-------------+--------+----------+\n",
            "|store_id|      item_id|wm_yr_wk|sell_price|\n",
            "+--------+-------------+--------+----------+\n",
            "|    CA_1|HOBBIES_1_001|   11325|      9.58|\n",
            "|    CA_1|HOBBIES_1_001|   11326|      9.58|\n",
            "|    CA_1|HOBBIES_1_001|   11327|      8.26|\n",
            "|    CA_1|HOBBIES_1_001|   11328|      8.26|\n",
            "|    CA_1|HOBBIES_1_001|   11329|      8.26|\n",
            "+--------+-------------+--------+----------+\n",
            "only showing top 5 rows\n",
            "\n"
          ]
        }
      ]
    },
    {
      "cell_type": "markdown",
      "source": [
        "# Quantification du pourcentage de produit/magasins présents pour chaque semaine"
      ],
      "metadata": {
        "id": "3pBtoTBP87cM"
      }
    },
    {
      "cell_type": "markdown",
      "source": [
        "Nous considérons par la suite une entité comme un produit associé à un magasin, il y a 30 490 entités différentes. Nous allons, pour chaque semaine (donc chaque wm_yr_wk), calculer le pourcentage d'entités présentes."
      ],
      "metadata": {
        "id": "9yjrKxBE9JEx"
      }
    },
    {
      "cell_type": "code",
      "source": [
        "df_core = (\n",
        "    sell_prices_df\n",
        "    .groupBy(\"wm_yr_wk\")\n",
        "    .agg(\n",
        "        F.countDistinct(\"item_id\", \"store_id\").alias(\"count_item_store\")\n",
        "    )\n",
        ")\n",
        "\n",
        "df_core.show(5)"
      ],
      "metadata": {
        "colab": {
          "base_uri": "https://localhost:8080/"
        },
        "id": "IiVdDqHO9Bmy",
        "outputId": "69140a6d-9bac-4825-ec39-9d0de6dd72cf"
      },
      "execution_count": null,
      "outputs": [
        {
          "output_type": "stream",
          "name": "stdout",
          "text": [
            "+--------+----------------+\n",
            "|wm_yr_wk|count_item_store|\n",
            "+--------+----------------+\n",
            "|   11619|           30490|\n",
            "|   11434|           29045|\n",
            "|   11309|           23202|\n",
            "|   11243|           21587|\n",
            "|   11345|           25731|\n",
            "+--------+----------------+\n",
            "only showing top 5 rows\n",
            "\n"
          ]
        }
      ]
    },
    {
      "cell_type": "markdown",
      "source": [
        "Maintenant qu'on a le nombre d'entités par semaine, on ramène le tout en un pourcentage :"
      ],
      "metadata": {
        "id": "wARXEXcr_PSR"
      }
    },
    {
      "cell_type": "code",
      "source": [
        "df_percentage = df_core.withColumn('percentage_item_store', (df_core['count_item_store'] / 30490) * 100)\n",
        "\n",
        "df_percentage.show(5)"
      ],
      "metadata": {
        "colab": {
          "base_uri": "https://localhost:8080/"
        },
        "id": "MGQW8oc9-Cl0",
        "outputId": "fe5df1c7-3a72-45fd-b26c-9ef14cecc6c6"
      },
      "execution_count": null,
      "outputs": [
        {
          "output_type": "stream",
          "name": "stdout",
          "text": [
            "+--------+----------------+---------------------+\n",
            "|wm_yr_wk|count_item_store|percentage_item_store|\n",
            "+--------+----------------+---------------------+\n",
            "|   11619|           30490|                100.0|\n",
            "|   11434|           29045|    95.26074122663168|\n",
            "|   11309|           23202|    76.09708101016727|\n",
            "|   11243|           21587|    70.80026238110855|\n",
            "|   11345|           25731|    84.39160380452607|\n",
            "+--------+----------------+---------------------+\n",
            "only showing top 5 rows\n",
            "\n"
          ]
        }
      ]
    },
    {
      "cell_type": "markdown",
      "source": [
        "Affichage du graphique pourcentage par rapport à la semaine"
      ],
      "metadata": {
        "id": "g-APjHh3_eZ0"
      }
    },
    {
      "cell_type": "code",
      "source": [
        "# plot wm_yr_wk and percentage_item_store\n",
        "df_percentage2 = df_percentage.toPandas()\n",
        "plt.plot(df_percentage2['wm_yr_wk'], df_percentage2['percentage_item_store'], 'b.')"
      ],
      "metadata": {
        "colab": {
          "base_uri": "https://localhost:8080/",
          "height": 468
        },
        "id": "T60T8Cdg_jEm",
        "outputId": "086c51ba-4f98-42ae-b9be-2032ebc74352"
      },
      "execution_count": null,
      "outputs": [
        {
          "output_type": "execute_result",
          "data": {
            "text/plain": [
              "[<matplotlib.lines.Line2D at 0x7b5f6ebdc8b0>]"
            ]
          },
          "metadata": {},
          "execution_count": 69
        },
        {
          "output_type": "display_data",
          "data": {
            "text/plain": [
              "<Figure size 640x480 with 1 Axes>"
            ],
            "image/png": "[encoded data removed]"
          },
          "metadata": {}
        }
      ]
    },
    {
      "cell_type": "markdown",
      "source": [
        "Chose surprenante en regardant le graphique, il y a certaines semaines où nous avons aucune information. Pour vérifier si il y a eu une erreur dans la manipulation des données, on prend la semaine avec wm_yr_wk à 11200 et compte le nombre de produits..."
      ],
      "metadata": {
        "id": "_iQmY8APC0OX"
      }
    },
    {
      "cell_type": "code",
      "source": [
        "sell_prices_df.filter(F.col(\"wm_yr_wk\") == \"11200\").count()"
      ],
      "metadata": {
        "colab": {
          "base_uri": "https://localhost:8080/"
        },
        "id": "ScejnApSBBsm",
        "outputId": "9f432dcd-b587-4afd-9682-5160e092974b"
      },
      "execution_count": null,
      "outputs": [
        {
          "output_type": "execute_result",
          "data": {
            "text/plain": [
              "0"
            ]
          },
          "metadata": {},
          "execution_count": 57
        }
      ]
    },
    {
      "cell_type": "markdown",
      "source": [
        "0 produit pour la semaine 11200 car cette dernière n'existe pas, une année ayant environ 52/53 semaines, 2011 à 2012 est décrit avec des wm_yr_wk compris entre 11101 et 11152"
      ],
      "metadata": {
        "id": "LfgMbtNbDVyj"
      }
    },
    {
      "cell_type": "code",
      "source": [
        "calendar_df.select(\"wm_yr_wk\", \"date\").filter(F.col(\"wm_yr_wk\") == \"11101\").show(10)"
      ],
      "metadata": {
        "colab": {
          "base_uri": "https://localhost:8080/"
        },
        "id": "5pGsrRhlDjBf",
        "outputId": "91b57e2a-bedf-4196-9766-65ce8cb7e266"
      },
      "execution_count": null,
      "outputs": [
        {
          "output_type": "stream",
          "name": "stdout",
          "text": [
            "+--------+----------+\n",
            "|wm_yr_wk|      date|\n",
            "+--------+----------+\n",
            "|   11101|2011-01-29|\n",
            "|   11101|2011-01-30|\n",
            "|   11101|2011-01-31|\n",
            "|   11101|2011-02-01|\n",
            "|   11101|2011-02-02|\n",
            "|   11101|2011-02-03|\n",
            "|   11101|2011-02-04|\n",
            "+--------+----------+\n",
            "\n"
          ]
        }
      ]
    },
    {
      "cell_type": "code",
      "source": [
        "calendar_df.select(\"wm_yr_wk\", \"date\").filter(F.col(\"wm_yr_wk\") == \"11152\").show(10)"
      ],
      "metadata": {
        "colab": {
          "base_uri": "https://localhost:8080/"
        },
        "id": "4qFehx5PEK15",
        "outputId": "59fc9c0e-5341-4101-883a-15e36d33cc37"
      },
      "execution_count": null,
      "outputs": [
        {
          "output_type": "stream",
          "name": "stdout",
          "text": [
            "+--------+----------+\n",
            "|wm_yr_wk|      date|\n",
            "+--------+----------+\n",
            "|   11152|2012-01-21|\n",
            "|   11152|2012-01-22|\n",
            "|   11152|2012-01-23|\n",
            "|   11152|2012-01-24|\n",
            "|   11152|2012-01-25|\n",
            "|   11152|2012-01-26|\n",
            "|   11152|2012-01-27|\n",
            "+--------+----------+\n",
            "\n"
          ]
        }
      ]
    },
    {
      "cell_type": "markdown",
      "source": [
        "La période 2012 - 2013 est accessible avec des wm_yr_wk compris entre 11201 et 11252 et ainsi de suite... Les produits sont donc ajoutés continuellement tout au long de la timeseries\n",
        "\n",
        "Donc c'est possible que les time series ont été imputées au début dans la base de données walmart."
      ],
      "metadata": {
        "id": "vaVHkUveE7fI"
      }
    },
    {
      "cell_type": "markdown",
      "source": [
        "# Nombre de valeurs manquantes dans data_td2_df"
      ],
      "metadata": {
        "id": "8SdHnsNFHAgv"
      }
    },
    {
      "cell_type": "code",
      "source": [
        "na_count = data_td2_df.filter(F.col(\"avg_sell_price\").isNull()).count()\n",
        "print(f\"Nombre de valeurs NA dans avg_sell_price : {na_count}\")"
      ],
      "metadata": {
        "colab": {
          "base_uri": "https://localhost:8080/"
        },
        "id": "tkCNBMxqHLrp",
        "outputId": "f116d434-20eb-4bc1-a08d-138b2574b547"
      },
      "execution_count": null,
      "outputs": [
        {
          "output_type": "stream",
          "name": "stdout",
          "text": [
            "Nombre de valeurs NA dans avg_sell_price : 413401\n"
          ]
        }
      ]
    },
    {
      "cell_type": "code",
      "source": [
        "#filter avg_sell_price NA and sales =0\n",
        "na_count_2 = data_td2_df.filter((F.col(\"avg_sell_price\").isNull()) & (F.col(\"sales\") == 0)).count()\n",
        "print(f\"Nombre de valeurs NA dans avg_sell_price et sales = 0 : {na_count_2}\")"
      ],
      "metadata": {
        "colab": {
          "base_uri": "https://localhost:8080/"
        },
        "id": "ytej2DXhVrSI",
        "outputId": "6ab568c3-94d5-4d87-ecce-89eb84d39fd9"
      },
      "execution_count": null,
      "outputs": [
        {
          "output_type": "stream",
          "name": "stdout",
          "text": [
            "Nombre de valeurs NA dans avg_sell_price et sales = 0 : 413401\n"
          ]
        }
      ]
    },
    {
      "cell_type": "markdown",
      "source": [
        "Il y a bien aucune vente réalisée lorsque absence de prix"
      ],
      "metadata": {
        "id": "5YzUjX_QaRcX"
      }
    },
    {
      "cell_type": "code",
      "source": [
        "sales_null = data_td2_df.filter(F.col(\"sales\") == 0).count()\n",
        "print(f\"Nombre de ventes nulles dans un mois : {sales_null}\")"
      ],
      "metadata": {
        "colab": {
          "base_uri": "https://localhost:8080/"
        },
        "id": "ffhBIqEAVrQa",
        "outputId": "f41e9747-eae2-4b0d-8edf-6919633a03d7"
      },
      "execution_count": null,
      "outputs": [
        {
          "output_type": "stream",
          "name": "stdout",
          "text": [
            "Nombre de ventes nulles dans un mois : 589041\n"
          ]
        }
      ]
    },
    {
      "cell_type": "markdown",
      "source": [
        "Il y a donc bien certains mois où le produit est commercialisé mais n'est pas vendu ne serait-ce qu'une seule fois"
      ],
      "metadata": {
        "id": "q76Lw13ia16N"
      }
    },
    {
      "cell_type": "code",
      "source": [
        "data_td2_count = data_td2_df.count()\n",
        "print(f\"Nombre de lignes dans data_td2_df : {data_td2_count}\")"
      ],
      "metadata": {
        "colab": {
          "base_uri": "https://localhost:8080/"
        },
        "id": "bME7xaX8Hr21",
        "outputId": "73afaf90-4cc5-4449-e21d-4238cbab5247"
      },
      "execution_count": null,
      "outputs": [
        {
          "output_type": "stream",
          "name": "stdout",
          "text": [
            "Nombre de lignes dans data_td2_df : 1951360\n"
          ]
        }
      ]
    },
    {
      "cell_type": "code",
      "source": [
        "print(f\"Pourcentage de valeurs manquantes : {(na_count/data_td2_count)*100} %\")"
      ],
      "metadata": {
        "colab": {
          "base_uri": "https://localhost:8080/"
        },
        "id": "0msuNd4DII_t",
        "outputId": "cc7a3456-70b6-4fe6-a0b6-cf2d2426c6c8"
      },
      "execution_count": null,
      "outputs": [
        {
          "output_type": "stream",
          "name": "stdout",
          "text": [
            "Pourcentage de valeurs manquantes : 21.18527591013447 %\n"
          ]
        }
      ]
    }
  ]
}